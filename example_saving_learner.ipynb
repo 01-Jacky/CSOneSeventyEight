{
 "cells": [
  {
   "cell_type": "markdown",
   "metadata": {},
   "source": [
    "# Example on how to save a trained learner (via pickling) so we don't have to retrain it again if we want to reuse it later."
   ]
  },
  {
   "cell_type": "code",
   "execution_count": 1,
   "metadata": {
    "collapsed": true
   },
   "outputs": [],
   "source": [
    "import pickle\n",
    "import numpy as np\n",
    "import matplotlib.pyplot as plt\n",
    "import mltools as ml\n",
    "import math\n",
    "\n",
    "%matplotlib inline\n",
    "np.random.seed(0)    # Default seeding for hw\n",
    "\n",
    "# Data Loading\n",
    "X = np.genfromtxt('data/X_train.txt', delimiter=None)\n",
    "Y = np.genfromtxt('data/Y_train.txt', delimiter=None)\n",
    "X,Y = ml.shuffleData(X,Y)\n",
    "\n",
    "# Split the data\n",
    "Xtr, Xva, Ytr, Yva = ml.splitData(X, Y)\n",
    "Xt, Yt = Xtr[:5000], Ytr[:5000] # subsample for efficiency (you can go higher)"
   ]
  },
  {
   "cell_type": "code",
   "execution_count": 2,
   "metadata": {},
   "outputs": [
    {
     "name": "stdout",
     "output_type": "stream",
     "text": [
      "Testing AUC   : 0.7473025716293824\n",
      "Validation AUC: 0.6309046554128769\n"
     ]
    }
   ],
   "source": [
    "# Train\n",
    "learner = ml.dtree.treeClassify(Xt, Yt, maxDepth=7, minParent=3, minLeaf=2)\n",
    "print('Testing AUC   : {}'.format(learner.auc(Xt, Yt)))\n",
    "print('Validation AUC: {}'.format(learner.auc(Xva, Yva)))"
   ]
  },
  {
   "cell_type": "code",
   "execution_count": 3,
   "metadata": {},
   "outputs": [
    {
     "name": "stdout",
     "output_type": "stream",
     "text": [
      "[[ 0.55042017  0.44957983]\n",
      " [ 0.81759259  0.18240741]\n",
      " [ 0.60799136  0.39200864]\n",
      " ..., \n",
      " [ 0.56048387  0.43951613]\n",
      " [ 0.69277108  0.30722892]\n",
      " [ 0.79461756  0.20538244]]\n"
     ]
    }
   ],
   "source": [
    "# Predict\n",
    "probs = learner.predictSoft(Xva)\n",
    "print(probs)"
   ]
  },
  {
   "cell_type": "code",
   "execution_count": 11,
   "metadata": {
    "collapsed": true
   },
   "outputs": [],
   "source": [
    "# Save the learner (pickle) for loading later\n",
    "pickle.dump(learner, open('pickle/example_learner.pkl', \"wb\" ))"
   ]
  },
  {
   "cell_type": "code",
   "execution_count": 17,
   "metadata": {},
   "outputs": [],
   "source": [
    "# Loading (sometime later or in a different notebook)\n",
    "new_learner = pickle.load( open('pickle/example_learner.pkl', \"rb\" ) )"
   ]
  },
  {
   "cell_type": "code",
   "execution_count": 18,
   "metadata": {},
   "outputs": [
    {
     "name": "stdout",
     "output_type": "stream",
     "text": [
      "[[ 0.55042017  0.44957983]\n",
      " [ 0.81759259  0.18240741]\n",
      " [ 0.60799136  0.39200864]\n",
      " ..., \n",
      " [ 0.56048387  0.43951613]\n",
      " [ 0.69277108  0.30722892]\n",
      " [ 0.79461756  0.20538244]]\n"
     ]
    }
   ],
   "source": [
    "# Make sure learner we loaded still works the same\n",
    "new_probs = new_learner.predictSoft(Xva)\n",
    "print(new_probs)"
   ]
  },
  {
   "cell_type": "markdown",
   "metadata": {},
   "source": [
    "# Save all the learners under path pickle/ so it can be easily found and loaded into ensemble"
   ]
  },
  {
   "cell_type": "code",
   "execution_count": null,
   "metadata": {
    "collapsed": true
   },
   "outputs": [],
   "source": []
  }
 ],
 "metadata": {
  "kernelspec": {
   "display_name": "Python 3",
   "language": "python",
   "name": "python3"
  },
  "language_info": {
   "codemirror_mode": {
    "name": "ipython",
    "version": 3
   },
   "file_extension": ".py",
   "mimetype": "text/x-python",
   "name": "python",
   "nbconvert_exporter": "python",
   "pygments_lexer": "ipython3",
   "version": "3.6.2"
  }
 },
 "nbformat": 4,
 "nbformat_minor": 2
}
