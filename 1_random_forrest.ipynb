{
 "cells": [
  {
   "cell_type": "markdown",
   "metadata": {},
   "source": [
    "# Basic decision tree (the forrest should be better than this)"
   ]
  },
  {
   "cell_type": "code",
   "execution_count": 175,
   "metadata": {},
   "outputs": [],
   "source": [
    "import pickle\n",
    "import numpy as np\n",
    "import matplotlib.pyplot as plt\n",
    "import mltools as ml\n",
    "import math\n",
    "import time\n",
    "\n",
    "%matplotlib inline\n",
    "np.random.seed(0)    # Default seeding for hw\n",
    "\n",
    "# Data Loading\n",
    "X = np.genfromtxt('data/X_train.txt', delimiter=None)\n",
    "Y = np.genfromtxt('data/Y_train.txt', delimiter=None)\n",
    "X,Y = ml.shuffleData(X,Y)\n",
    "\n",
    "# Split the data\n",
    "Xtr, Xva, Ytr, Yva = ml.splitData(X, Y)\n",
    "subsamples_train = len(Xtr)\n",
    "# subsamples_train = 10000\n",
    "Xt, Yt = Xtr[:subsamples_train], Ytr[:subsamples_train] # subsample for efficiency (you can go higher)"
   ]
  },
  {
   "cell_type": "code",
   "execution_count": 125,
   "metadata": {},
   "outputs": [
    {
     "name": "stdout",
     "output_type": "stream",
     "text": [
      "Xtr.shape = (160000, 14)\n",
      "Xva.shape = (40000, 14)\n",
      "Xt.shape = (160000, 14)\n"
     ]
    }
   ],
   "source": [
    "print('Xtr.shape = {}'.format(Xtr.shape))\n",
    "print('Xva.shape = {}'.format(Xva.shape))\n",
    "print('Xt.shape = {}'.format(Xt.shape))"
   ]
  },
  {
   "cell_type": "code",
   "execution_count": 178,
   "metadata": {},
   "outputs": [
    {
     "name": "stdout",
     "output_type": "stream",
     "text": [
      "Testing AUC   : 0.6857440969185055\n",
      "Validation AUC: 0.6752014857978347\n"
     ]
    }
   ],
   "source": [
    "# Train\n",
    "learner = ml.dtree.treeClassify(Xt, Yt, maxDepth=7, minParent=3, minLeaf=2,nFeatures=16)\n",
    "print('Testing AUC   : {}'.format(learner.auc(Xt, Yt)))\n",
    "print('Validation AUC: {}'.format(learner.auc(Xva, Yva)))"
   ]
  },
  {
   "cell_type": "markdown",
   "metadata": {},
   "source": [
    "# Messing with parameters"
   ]
  },
  {
   "cell_type": "code",
   "execution_count": 170,
   "metadata": {},
   "outputs": [
    {
     "name": "stdout",
     "output_type": "stream",
     "text": [
      "nFeature = 1  Avg auc=0.6288440869587419\n",
      "nFeature = 2  Avg auc=0.6514535042645788\n",
      "nFeature = 3  Avg auc=0.6576695735624394\n",
      "nFeature = 4  Avg auc=0.6615853807650984\n",
      "nFeature = 5  Avg auc=0.6653308351016844\n",
      "nFeature = 6  Avg auc=0.6662518670827849\n",
      "nFeature = 7  Avg auc=0.6684394470694192\n",
      "nFeature = 8  Avg auc=0.669220779342931\n",
      "nFeature = 9  Avg auc=0.6690266824443138\n",
      "nFeature = 10  Avg auc=0.6704918646807367\n",
      "nFeature = 11  Avg auc=0.6722473017958346\n"
     ]
    },
    {
     "ename": "KeyboardInterrupt",
     "evalue": "",
     "output_type": "error",
     "traceback": [
      "\u001b[1;31m---------------------------------------------------------------------------\u001b[0m",
      "\u001b[1;31mKeyboardInterrupt\u001b[0m                         Traceback (most recent call last)",
      "\u001b[1;32m<ipython-input-170-50fc676a45eb>\u001b[0m in \u001b[0;36m<module>\u001b[1;34m()\u001b[0m\n\u001b[0;32m      3\u001b[0m     \u001b[0mtotal_auc\u001b[0m \u001b[1;33m=\u001b[0m \u001b[1;36m0\u001b[0m\u001b[1;33m\u001b[0m\u001b[0m\n\u001b[0;32m      4\u001b[0m     \u001b[1;32mfor\u001b[0m \u001b[0mi\u001b[0m \u001b[1;32min\u001b[0m \u001b[0mrange\u001b[0m\u001b[1;33m(\u001b[0m\u001b[1;36m10\u001b[0m\u001b[1;33m)\u001b[0m\u001b[1;33m:\u001b[0m\u001b[1;33m\u001b[0m\u001b[0m\n\u001b[1;32m----> 5\u001b[1;33m         \u001b[0mlearner\u001b[0m \u001b[1;33m=\u001b[0m \u001b[0mml\u001b[0m\u001b[1;33m.\u001b[0m\u001b[0mdtree\u001b[0m\u001b[1;33m.\u001b[0m\u001b[0mtreeClassify\u001b[0m\u001b[1;33m(\u001b[0m\u001b[0mXt\u001b[0m\u001b[1;33m,\u001b[0m \u001b[0mYt\u001b[0m\u001b[1;33m,\u001b[0m \u001b[0mmaxDepth\u001b[0m\u001b[1;33m=\u001b[0m\u001b[1;36m7\u001b[0m\u001b[1;33m,\u001b[0m \u001b[0mminParent\u001b[0m\u001b[1;33m=\u001b[0m\u001b[1;36m3\u001b[0m\u001b[1;33m,\u001b[0m \u001b[0mminLeaf\u001b[0m\u001b[1;33m=\u001b[0m\u001b[1;36m2\u001b[0m\u001b[1;33m,\u001b[0m\u001b[0mnFeatures\u001b[0m\u001b[1;33m=\u001b[0m\u001b[0m_nFeatures\u001b[0m\u001b[1;33m)\u001b[0m\u001b[1;33m\u001b[0m\u001b[0m\n\u001b[0m\u001b[0;32m      6\u001b[0m         \u001b[0mtotal_auc\u001b[0m \u001b[1;33m+=\u001b[0m \u001b[0mlearner\u001b[0m\u001b[1;33m.\u001b[0m\u001b[0mauc\u001b[0m\u001b[1;33m(\u001b[0m\u001b[0mXva\u001b[0m\u001b[1;33m,\u001b[0m\u001b[0mYva\u001b[0m\u001b[1;33m)\u001b[0m\u001b[1;33m\u001b[0m\u001b[0m\n\u001b[0;32m      7\u001b[0m     \u001b[0mavg_auc\u001b[0m \u001b[1;33m=\u001b[0m \u001b[0mtotal_auc\u001b[0m\u001b[1;33m/\u001b[0m\u001b[1;36m10\u001b[0m\u001b[1;33m\u001b[0m\u001b[0m\n",
      "\u001b[1;32m~\\Desktop\\CS178\\Project\\mltools\\dtree.py\u001b[0m in \u001b[0;36m__init__\u001b[1;34m(self, *args, **kwargs)\u001b[0m\n\u001b[0;32m    266\u001b[0m         \u001b[1;34m\"\"\"Constructor for decision tree regressor; all args passed to train\"\"\"\u001b[0m\u001b[1;33m\u001b[0m\u001b[0m\n\u001b[0;32m    267\u001b[0m         \u001b[0mself\u001b[0m\u001b[1;33m.\u001b[0m\u001b[0mclasses\u001b[0m \u001b[1;33m=\u001b[0m \u001b[1;33m[\u001b[0m\u001b[1;33m]\u001b[0m\u001b[1;33m\u001b[0m\u001b[0m\n\u001b[1;32m--> 268\u001b[1;33m         \u001b[0mtreeBase\u001b[0m\u001b[1;33m.\u001b[0m\u001b[0m__init__\u001b[0m\u001b[1;33m(\u001b[0m\u001b[0mself\u001b[0m\u001b[1;33m,\u001b[0m\u001b[1;33m*\u001b[0m\u001b[0margs\u001b[0m\u001b[1;33m,\u001b[0m\u001b[1;33m**\u001b[0m\u001b[0mkwargs\u001b[0m\u001b[1;33m)\u001b[0m\u001b[1;33m;\u001b[0m\u001b[1;33m\u001b[0m\u001b[0m\n\u001b[0m\u001b[0;32m    269\u001b[0m         \u001b[1;31m#super(treeClassify,self).__init__(*args,**kwargs);\u001b[0m\u001b[1;33m\u001b[0m\u001b[1;33m\u001b[0m\u001b[0m\n\u001b[0;32m    270\u001b[0m \u001b[1;33m\u001b[0m\u001b[0m\n",
      "\u001b[1;32m~\\Desktop\\CS178\\Project\\mltools\\dtree.py\u001b[0m in \u001b[0;36m__init__\u001b[1;34m(self, *args, **kwargs)\u001b[0m\n\u001b[0;32m     40\u001b[0m \u001b[1;33m\u001b[0m\u001b[0m\n\u001b[0;32m     41\u001b[0m         \u001b[1;32mif\u001b[0m \u001b[0mlen\u001b[0m\u001b[1;33m(\u001b[0m\u001b[0margs\u001b[0m\u001b[1;33m)\u001b[0m \u001b[1;32mor\u001b[0m \u001b[0mlen\u001b[0m\u001b[1;33m(\u001b[0m\u001b[0mkwargs\u001b[0m\u001b[1;33m)\u001b[0m\u001b[1;33m:\u001b[0m     \u001b[1;31m# if we were given optional arguments,\u001b[0m\u001b[1;33m\u001b[0m\u001b[0m\n\u001b[1;32m---> 42\u001b[1;33m             \u001b[0mself\u001b[0m\u001b[1;33m.\u001b[0m\u001b[0mtrain\u001b[0m\u001b[1;33m(\u001b[0m\u001b[1;33m*\u001b[0m\u001b[0margs\u001b[0m\u001b[1;33m,\u001b[0m \u001b[1;33m**\u001b[0m\u001b[0mkwargs\u001b[0m\u001b[1;33m)\u001b[0m    \u001b[1;31m#  just pass them through to \"train\"\u001b[0m\u001b[1;33m\u001b[0m\u001b[0m\n\u001b[0m\u001b[0;32m     43\u001b[0m \u001b[1;33m\u001b[0m\u001b[0m\n\u001b[0;32m     44\u001b[0m \u001b[1;33m\u001b[0m\u001b[0m\n",
      "\u001b[1;32m~\\Desktop\\CS178\\Project\\mltools\\dtree.py\u001b[0m in \u001b[0;36mtrain\u001b[1;34m(self, X, Y, *args, **kwargs)\u001b[0m\n\u001b[0;32m    282\u001b[0m         \"\"\"\n\u001b[0;32m    283\u001b[0m         \u001b[0mself\u001b[0m\u001b[1;33m.\u001b[0m\u001b[0mclasses\u001b[0m \u001b[1;33m=\u001b[0m \u001b[0mlist\u001b[0m\u001b[1;33m(\u001b[0m\u001b[0mnp\u001b[0m\u001b[1;33m.\u001b[0m\u001b[0munique\u001b[0m\u001b[1;33m(\u001b[0m\u001b[0mY\u001b[0m\u001b[1;33m)\u001b[0m\u001b[1;33m)\u001b[0m \u001b[1;32mif\u001b[0m \u001b[0mlen\u001b[0m\u001b[1;33m(\u001b[0m\u001b[0mself\u001b[0m\u001b[1;33m.\u001b[0m\u001b[0mclasses\u001b[0m\u001b[1;33m)\u001b[0m \u001b[1;33m==\u001b[0m \u001b[1;36m0\u001b[0m \u001b[1;32melse\u001b[0m \u001b[0mself\u001b[0m\u001b[1;33m.\u001b[0m\u001b[0mclasses\u001b[0m\u001b[1;33m\u001b[0m\u001b[0m\n\u001b[1;32m--> 284\u001b[1;33m         \u001b[0mtreeBase\u001b[0m\u001b[1;33m.\u001b[0m\u001b[0mtrain\u001b[0m\u001b[1;33m(\u001b[0m\u001b[0mself\u001b[0m\u001b[1;33m,\u001b[0m\u001b[0mX\u001b[0m\u001b[1;33m,\u001b[0m\u001b[0mto1ofK\u001b[0m\u001b[1;33m(\u001b[0m\u001b[0mY\u001b[0m\u001b[1;33m,\u001b[0m\u001b[0mself\u001b[0m\u001b[1;33m.\u001b[0m\u001b[0mclasses\u001b[0m\u001b[1;33m)\u001b[0m\u001b[1;33m.\u001b[0m\u001b[0mastype\u001b[0m\u001b[1;33m(\u001b[0m\u001b[0mfloat\u001b[0m\u001b[1;33m)\u001b[0m\u001b[1;33m,\u001b[0m\u001b[1;33m*\u001b[0m\u001b[0margs\u001b[0m\u001b[1;33m,\u001b[0m\u001b[1;33m**\u001b[0m\u001b[0mkwargs\u001b[0m\u001b[1;33m)\u001b[0m\u001b[1;33m;\u001b[0m\u001b[1;33m\u001b[0m\u001b[0m\n\u001b[0m\u001b[0;32m    285\u001b[0m \u001b[1;33m\u001b[0m\u001b[0m\n\u001b[0;32m    286\u001b[0m     \u001b[1;32mdef\u001b[0m \u001b[0mpredict\u001b[0m\u001b[1;33m(\u001b[0m\u001b[0mself\u001b[0m\u001b[1;33m,\u001b[0m\u001b[0mX\u001b[0m\u001b[1;33m)\u001b[0m\u001b[1;33m:\u001b[0m\u001b[1;33m\u001b[0m\u001b[0m\n",
      "\u001b[1;32m~\\Desktop\\CS178\\Project\\mltools\\dtree.py\u001b[0m in \u001b[0;36mtrain\u001b[1;34m(self, X, Y, minParent, maxDepth, minLeaf, nFeatures)\u001b[0m\n\u001b[0;32m     92\u001b[0m         \u001b[0mself\u001b[0m\u001b[1;33m.\u001b[0m\u001b[0msz\u001b[0m \u001b[1;33m=\u001b[0m \u001b[1;36m0\u001b[0m              \u001b[1;31m# start building at the root\u001b[0m\u001b[1;33m\u001b[0m\u001b[0m\n\u001b[0;32m     93\u001b[0m \u001b[1;33m\u001b[0m\u001b[0m\n\u001b[1;32m---> 94\u001b[1;33m         \u001b[0mself\u001b[0m\u001b[1;33m.\u001b[0m\u001b[0m__train_recursive\u001b[0m\u001b[1;33m(\u001b[0m\u001b[0mX\u001b[0m\u001b[1;33m,\u001b[0m \u001b[0mY\u001b[0m\u001b[1;33m,\u001b[0m \u001b[1;36m0\u001b[0m\u001b[1;33m,\u001b[0m \u001b[0mminParent\u001b[0m\u001b[1;33m,\u001b[0m \u001b[0mmaxDepth\u001b[0m\u001b[1;33m,\u001b[0m \u001b[0mminLeaf\u001b[0m\u001b[1;33m,\u001b[0m \u001b[0mnFeatures\u001b[0m\u001b[1;33m)\u001b[0m\u001b[1;33m\u001b[0m\u001b[0m\n\u001b[0m\u001b[0;32m     95\u001b[0m \u001b[1;33m\u001b[0m\u001b[0m\n\u001b[0;32m     96\u001b[0m         \u001b[0mself\u001b[0m\u001b[1;33m.\u001b[0m\u001b[0mL\u001b[0m \u001b[1;33m=\u001b[0m \u001b[0mself\u001b[0m\u001b[1;33m.\u001b[0m\u001b[0mL\u001b[0m\u001b[1;33m[\u001b[0m\u001b[1;36m0\u001b[0m\u001b[1;33m:\u001b[0m\u001b[0mself\u001b[0m\u001b[1;33m.\u001b[0m\u001b[0msz\u001b[0m\u001b[1;33m]\u001b[0m                              \u001b[1;31m# store returned data into object\u001b[0m\u001b[1;33m\u001b[0m\u001b[0m\n",
      "\u001b[1;32m~\\Desktop\\CS178\\Project\\mltools\\dtree.py\u001b[0m in \u001b[0;36m__train_recursive\u001b[1;34m(self, X, Y, depth, minParent, maxDepth, minLeaf, nFeatures)\u001b[0m\n\u001b[0;32m    132\u001b[0m         \u001b[1;31m# ...otherwise, search over (allowed) features\u001b[0m\u001b[1;33m\u001b[0m\u001b[1;33m\u001b[0m\u001b[0m\n\u001b[0;32m    133\u001b[0m         \u001b[1;32mfor\u001b[0m \u001b[0mi_feat\u001b[0m \u001b[1;32min\u001b[0m \u001b[0mtry_feat\u001b[0m\u001b[1;33m[\u001b[0m\u001b[1;36m0\u001b[0m\u001b[1;33m:\u001b[0m\u001b[0mnFeatures\u001b[0m\u001b[1;33m]\u001b[0m\u001b[1;33m:\u001b[0m\u001b[1;33m\u001b[0m\u001b[0m\n\u001b[1;32m--> 134\u001b[1;33m             \u001b[0mdsorted\u001b[0m \u001b[1;33m=\u001b[0m \u001b[0marr\u001b[0m\u001b[1;33m(\u001b[0m\u001b[0mnp\u001b[0m\u001b[1;33m.\u001b[0m\u001b[0msort\u001b[0m\u001b[1;33m(\u001b[0m\u001b[0mX\u001b[0m\u001b[1;33m[\u001b[0m\u001b[1;33m:\u001b[0m\u001b[1;33m,\u001b[0m\u001b[0mi_feat\u001b[0m\u001b[1;33m]\u001b[0m\u001b[1;33m.\u001b[0m\u001b[0mT\u001b[0m\u001b[1;33m)\u001b[0m\u001b[1;33m)\u001b[0m\u001b[1;33m.\u001b[0m\u001b[0mravel\u001b[0m\u001b[1;33m(\u001b[0m\u001b[1;33m)\u001b[0m                \u001b[1;31m# sort data...\u001b[0m\u001b[1;33m\u001b[0m\u001b[0m\n\u001b[0m\u001b[0;32m    135\u001b[0m             \u001b[0mpi\u001b[0m \u001b[1;33m=\u001b[0m \u001b[0mnp\u001b[0m\u001b[1;33m.\u001b[0m\u001b[0margsort\u001b[0m\u001b[1;33m(\u001b[0m\u001b[0mX\u001b[0m\u001b[1;33m[\u001b[0m\u001b[1;33m:\u001b[0m\u001b[1;33m,\u001b[0m\u001b[0mi_feat\u001b[0m\u001b[1;33m]\u001b[0m\u001b[1;33m.\u001b[0m\u001b[0mT\u001b[0m\u001b[1;33m)\u001b[0m                               \u001b[1;31m# ...get sorted indices...\u001b[0m\u001b[1;33m\u001b[0m\u001b[0m\n\u001b[0;32m    136\u001b[0m             \u001b[0mtsorted\u001b[0m \u001b[1;33m=\u001b[0m \u001b[0mY\u001b[0m\u001b[1;33m[\u001b[0m\u001b[0mpi\u001b[0m\u001b[1;33m]\u001b[0m                                              \u001b[1;31m# ...and sort targets by feature ID\u001b[0m\u001b[1;33m\u001b[0m\u001b[0m\n",
      "\u001b[1;32mC:\\ProgramData\\Anaconda3\\lib\\site-packages\\numpy\\core\\fromnumeric.py\u001b[0m in \u001b[0;36msort\u001b[1;34m(a, axis, kind, order)\u001b[0m\n\u001b[0;32m    820\u001b[0m     \u001b[1;32melse\u001b[0m\u001b[1;33m:\u001b[0m\u001b[1;33m\u001b[0m\u001b[0m\n\u001b[0;32m    821\u001b[0m         \u001b[0ma\u001b[0m \u001b[1;33m=\u001b[0m \u001b[0masanyarray\u001b[0m\u001b[1;33m(\u001b[0m\u001b[0ma\u001b[0m\u001b[1;33m)\u001b[0m\u001b[1;33m.\u001b[0m\u001b[0mcopy\u001b[0m\u001b[1;33m(\u001b[0m\u001b[0morder\u001b[0m\u001b[1;33m=\u001b[0m\u001b[1;34m\"K\"\u001b[0m\u001b[1;33m)\u001b[0m\u001b[1;33m\u001b[0m\u001b[0m\n\u001b[1;32m--> 822\u001b[1;33m     \u001b[0ma\u001b[0m\u001b[1;33m.\u001b[0m\u001b[0msort\u001b[0m\u001b[1;33m(\u001b[0m\u001b[0maxis\u001b[0m\u001b[1;33m=\u001b[0m\u001b[0maxis\u001b[0m\u001b[1;33m,\u001b[0m \u001b[0mkind\u001b[0m\u001b[1;33m=\u001b[0m\u001b[0mkind\u001b[0m\u001b[1;33m,\u001b[0m \u001b[0morder\u001b[0m\u001b[1;33m=\u001b[0m\u001b[0morder\u001b[0m\u001b[1;33m)\u001b[0m\u001b[1;33m\u001b[0m\u001b[0m\n\u001b[0m\u001b[0;32m    823\u001b[0m     \u001b[1;32mreturn\u001b[0m \u001b[0ma\u001b[0m\u001b[1;33m\u001b[0m\u001b[0m\n\u001b[0;32m    824\u001b[0m \u001b[1;33m\u001b[0m\u001b[0m\n",
      "\u001b[1;31mKeyboardInterrupt\u001b[0m: "
     ]
    }
   ],
   "source": [
    "# Tuning nFeatures\n",
    "for _nFeatures in range(1,14):\n",
    "    total_auc = 0\n",
    "    for i in range(10):\n",
    "        learner = ml.dtree.treeClassify(Xt, Yt, maxDepth=7, minParent=3, minLeaf=2,nFeatures=_nFeatures)\n",
    "        total_auc += learner.auc(Xva,Yva)\n",
    "    avg_auc = total_auc/10\n",
    "    print('nFeature = {}  Avg auc={}'.format(_nFeatures,avg_auc))\n",
    "    \n",
    "# Looks like features beyond 6 doesn't really improve the predictions much"
   ]
  },
  {
   "cell_type": "code",
   "execution_count": 52,
   "metadata": {},
   "outputs": [
    {
     "name": "stdout",
     "output_type": "stream",
     "text": [
      "_maxDepth = 1  Avg auc=0.5973462799440625\n",
      "_maxDepth = 2  Avg auc=0.618007911519961\n",
      "_maxDepth = 3  Avg auc=0.6334816449573025\n",
      "_maxDepth = 4  Avg auc=0.6427321490597465\n",
      "_maxDepth = 5  Avg auc=0.6382593383388953\n",
      "_maxDepth = 6  Avg auc=0.6329911044117383\n",
      "_maxDepth = 7  Avg auc=0.6307541527126326\n",
      "_maxDepth = 8  Avg auc=0.6215438860702186\n",
      "_maxDepth = 9  Avg auc=0.6154564529472364\n",
      "_maxDepth = 10  Avg auc=0.6097160731326976\n",
      "_maxDepth = 11  Avg auc=0.6071693753119712\n",
      "_maxDepth = 12  Avg auc=0.6051109123898939\n",
      "_maxDepth = 13  Avg auc=0.6029751469404045\n",
      "_maxDepth = 14  Avg auc=0.5966665084726621\n",
      "_maxDepth = 15  Avg auc=0.5970649049179793\n",
      "_maxDepth = 16  Avg auc=0.5943862482342586\n"
     ]
    }
   ],
   "source": [
    "# Tuning Maxdepth\n",
    "for _maxDepth in range(1,17):\n",
    "    total_auc = 0\n",
    "    for i in range(10):\n",
    "        learner = ml.dtree.treeClassify(Xt, Yt, maxDepth=_maxDepth, minParent=3, minLeaf=2,nFeatures=14)\n",
    "        total_auc += learner.auc(Xva,Yva)\n",
    "    avg_auc = total_auc/10\n",
    "    print('_maxDepth = {}  Avg auc={}'.format(_maxDepth,avg_auc))\n",
    "    \n",
    "# Depth is good from 3-7 after that it prediction really degrades"
   ]
  },
  {
   "cell_type": "code",
   "execution_count": 63,
   "metadata": {},
   "outputs": [
    {
     "name": "stdout",
     "output_type": "stream",
     "text": [
      "minParent = 2  Avg auc=0.6309293577360257\n",
      "minParent = 4  Avg auc=0.6309809181524203\n",
      "minParent = 6  Avg auc=0.6309934203072137\n",
      "minParent = 8  Avg auc=0.6309235135169744\n",
      "minParent = 10  Avg auc=0.6307604245132203\n",
      "minParent = 12  Avg auc=0.6308346693581752\n",
      "minParent = 14  Avg auc=0.6295176354720928\n",
      "minParent = 16  Avg auc=0.6291832216357507\n",
      "minParent = 18  Avg auc=0.6292303637561169\n"
     ]
    }
   ],
   "source": [
    "# Tuning MinParent\n",
    "for _minParent in range(2,20,2):\n",
    "    total_auc = 0\n",
    "    for i in range(10):\n",
    "        learner = ml.dtree.treeClassify(Xt, Yt, maxDepth=7, minParent=_minParent, minLeaf=2,nFeatures=14)\n",
    "        total_auc += learner.auc(Xva,Yva)\n",
    "    avg_auc = total_auc/10\n",
    "    print('minParent = {}  Avg auc={}'.format(_minParent,avg_auc))\n",
    "    \n",
    "# MinParent seem to be same up to 12 then it degrades slowly"
   ]
  },
  {
   "cell_type": "code",
   "execution_count": 66,
   "metadata": {},
   "outputs": [
    {
     "name": "stdout",
     "output_type": "stream",
     "text": [
      "minLeaf = 2  Avg auc=0.6309634928093011\n",
      "minLeaf = 102  Avg auc=0.6446044222715324\n",
      "minLeaf = 202  Avg auc=0.6439664089377091\n",
      "minLeaf = 302  Avg auc=0.6405412087064668\n",
      "minLeaf = 402  Avg auc=0.6425872714848808\n",
      "minLeaf = 502  Avg auc=0.6379778057607378\n",
      "minLeaf = 602  Avg auc=0.6277992370494064\n",
      "minLeaf = 702  Avg auc=0.6268183156036036\n",
      "minLeaf = 802  Avg auc=0.62136495268654\n",
      "minLeaf = 902  Avg auc=0.62136495268654\n"
     ]
    }
   ],
   "source": [
    "# Tuning minLeaf\n",
    "for _minLeaf in range(2,1000,100):\n",
    "    total_auc = 0\n",
    "    for i in range(10):\n",
    "        learner = ml.dtree.treeClassify(Xt, Yt, maxDepth=7, minParent=10, minLeaf=_minLeaf,nFeatures=14)\n",
    "        total_auc += learner.auc(Xva,Yva)\n",
    "    avg_auc = total_auc/10\n",
    "    print('minLeaf = {}  Avg auc={}'.format(_minLeaf,avg_auc))\n",
    "    \n",
    "# Upping Minleaf seem to improve from 2 to 400. Afterwards it starts to degrade slowly for every hundred."
   ]
  },
  {
   "cell_type": "code",
   "execution_count": 127,
   "metadata": {},
   "outputs": [
    {
     "name": "stdout",
     "output_type": "stream",
     "text": [
      "Avg validation auc=0.644184571950524\n"
     ]
    }
   ],
   "source": [
    "# Putting all the best choices together...\n",
    "# Tuning MinParent\n",
    "total_auc = 0\n",
    "for i in range(10):\n",
    "    learner = ml.dtree.treeClassify(Xt, Yt, maxDepth=4, minParent=10, minLeaf=100, nFeatures=7)\n",
    "    auc = learner.auc(Xva,Yva)\n",
    "    total_auc += auc\n",
    "avg_auc = total_auc/10\n",
    "print('Avg validation auc={}'.format(avg_auc))"
   ]
  },
  {
   "cell_type": "code",
   "execution_count": 310,
   "metadata": {},
   "outputs": [
    {
     "name": "stdout",
     "output_type": "stream",
     "text": [
      "[[  2.46000000e+02   2.26000000e+02   2.43270000e+02   2.33430000e+02\n",
      "    7.12100000e+03   6.48000000e+02   0.00000000e+00   1.12350000e+00\n",
      "    5.52260000e+00   1.97470000e+00   2.33900000e+00   1.14380000e+00\n",
      "    5.30220000e+00   0.00000000e+00]\n",
      " [  2.39000000e+02   2.26000000e+02   2.40770000e+02   2.33310000e+02\n",
      "    2.10900000e+03   5.60000000e+02   0.00000000e+00   5.71540000e+00\n",
      "    6.32130000e+00   1.59990000e+00   4.33180000e+00   3.18340000e+00\n",
      "    3.05790000e+00   0.00000000e+00]\n",
      " [  2.51620000e+02   2.32000000e+02   2.45820000e+02   2.33570000e+02\n",
      "    1.99000000e+02   1.40000000e+01   0.00000000e+00   3.41310000e+00\n",
      "    5.73950000e+00   1.29360000e+00   5.61420000e+00   2.06010000e+00\n",
      "    2.00000000e+01   0.00000000e+00]]\n",
      "[[ 0.51230769  0.48769231]\n",
      " [ 0.68570108  0.31429892]\n",
      " [ 0.83820851  0.16179149]]\n",
      "[ 0.6787391  0.3212609]\n"
     ]
    }
   ],
   "source": [
    "# How predictions work\n",
    "print(Xte[:3,:])\n",
    "preds = learner.predictSoft(Xte[:3,:])\n",
    "print(preds)\n",
    "print(np.mean(preds, axis=0))"
   ]
  },
  {
   "cell_type": "markdown",
   "metadata": {},
   "source": [
    "# Random Forrest"
   ]
  },
  {
   "cell_type": "code",
   "execution_count": 322,
   "metadata": {},
   "outputs": [],
   "source": [
    "n_bags = 3\n",
    "bags = []   # self.learners\n",
    "for l in range(n_bags):\n",
    "    # Each boosted data is the size of the original data. \n",
    "    Xi, Yi = ml.bootstrapData(Xt, Yt, Xt.shape[0])\n",
    "\n",
    "    # Train the model on that draw\n",
    "    tree = ml.dtree.treeClassify(Xi, Yi, maxDepth=4, minParent=10, minLeaf=100, nFeatures=7)\n",
    "    bags.append(tree)"
   ]
  },
  {
   "cell_type": "code",
   "execution_count": 323,
   "metadata": {},
   "outputs": [],
   "source": [
    "# If you wanna check AUC of each tree\n",
    "# for l in range(n_bags):\n",
    "#     print(l)\n",
    "#     print(\"{0:>15}: {1:.4f}\".format('Train AUC', bags[l].auc(Xt, Yt)))\n",
    "#     print(\"{0:>15}: {1:.4f}\".format('Validation AUC', bags[l].auc(Xva, Yva)))"
   ]
  },
  {
   "cell_type": "code",
   "execution_count": 326,
   "metadata": {
    "collapsed": true
   },
   "outputs": [],
   "source": [
    "class BaggedTree(ml.base.classifier):\n",
    "    def __init__(self, learners):\n",
    "        \"\"\"Constructs a BaggedTree class with a set of learners. \"\"\"\n",
    "        self.learners = learners\n",
    "    \n",
    "    def predictSoft(self, X):\n",
    "        \"\"\"Predicts the probabilities with each bagged learner and average over the results. \"\"\"\n",
    "        n_bags = len(self.learners)\n",
    "        preds = [self.learners[l].predictSoft(X) for l in range(n_bags)]\n",
    "        return np.mean(preds, axis=0)"
   ]
  },
  {
   "cell_type": "code",
   "execution_count": 342,
   "metadata": {},
   "outputs": [
    {
     "name": "stdout",
     "output_type": "stream",
     "text": [
      "      Train AUC: 0.6607\n",
      " Validation AUC: 0.6558\n"
     ]
    }
   ],
   "source": [
    "bt = BaggedTree(bags)\n",
    "bt.classes = np.unique(Y)    # Tell it how many classes there are\n",
    "\n",
    "print(\"{0:>15}: {1:.4f}\".format('Train AUC', bt.auc(Xt, Yt)))\n",
    "print(\"{0:>15}: {1:.4f}\".format('Validation AUC', bt.auc(Xva, Yva)))"
   ]
  },
  {
   "cell_type": "code",
   "execution_count": 341,
   "metadata": {},
   "outputs": [],
   "source": [
    "# What do predictions look like\n",
    "Xte = np.genfromtxt('data/X_test.txt', delimiter=None)"
   ]
  },
  {
   "cell_type": "code",
   "execution_count": 365,
   "metadata": {},
   "outputs": [
    {
     "name": "stdout",
     "output_type": "stream",
     "text": [
      "[[  2.46000000e+02   2.26000000e+02   2.43270000e+02   2.33430000e+02\n",
      "    7.12100000e+03   6.48000000e+02   0.00000000e+00   1.12350000e+00\n",
      "    5.52260000e+00   1.97470000e+00   2.33900000e+00   1.14380000e+00\n",
      "    5.30220000e+00   0.00000000e+00]\n",
      " [  2.39000000e+02   2.26000000e+02   2.40770000e+02   2.33310000e+02\n",
      "    2.10900000e+03   5.60000000e+02   0.00000000e+00   5.71540000e+00\n",
      "    6.32130000e+00   1.59990000e+00   4.33180000e+00   3.18340000e+00\n",
      "    3.05790000e+00   0.00000000e+00]]\n",
      "[[ 0.33533168  0.66466832]]\n"
     ]
    }
   ],
   "source": [
    "print(Xte[:2,:])\n",
    "z = bt.predictSoft(Xte[:2,:])\n",
    "# print(z)\n",
    "print(bt.predictSoft(Xte[17:18,:]))"
   ]
  },
  {
   "cell_type": "code",
   "execution_count": null,
   "metadata": {},
   "outputs": [],
   "source": []
  },
  {
   "cell_type": "code",
   "execution_count": 235,
   "metadata": {
    "collapsed": true
   },
   "outputs": [],
   "source": [
    "# Save this sucker\n",
    "pickle.dump(learner, open('pickle/1_random_forrest.pkl', \"wb\" ))"
   ]
  },
  {
   "cell_type": "code",
   "execution_count": 366,
   "metadata": {
    "collapsed": true
   },
   "outputs": [],
   "source": [
    "# Load this sucker\n",
    "random_forrest_learner = pickle.load( open('pickle/1_random_forrest.pkl', \"rb\" ) )"
   ]
  },
  {
   "cell_type": "code",
   "execution_count": 367,
   "metadata": {},
   "outputs": [
    {
     "name": "stdout",
     "output_type": "stream",
     "text": [
      "[[  2.46000000e+02   2.26000000e+02   2.43270000e+02   2.33430000e+02\n",
      "    7.12100000e+03   6.48000000e+02   0.00000000e+00   1.12350000e+00\n",
      "    5.52260000e+00   1.97470000e+00   2.33900000e+00   1.14380000e+00\n",
      "    5.30220000e+00   0.00000000e+00]\n",
      " [  2.39000000e+02   2.26000000e+02   2.40770000e+02   2.33310000e+02\n",
      "    2.10900000e+03   5.60000000e+02   0.00000000e+00   5.71540000e+00\n",
      "    6.32130000e+00   1.59990000e+00   4.33180000e+00   3.18340000e+00\n",
      "    3.05790000e+00   0.00000000e+00]]\n",
      "[[ 0.33533168  0.66466832]]\n"
     ]
    }
   ],
   "source": [
    "print(Xte[:2,:])\n",
    "z = random_forrest_learner.predictSoft(Xte[:2,:])\n",
    "# print(z)\n",
    "print(bt.predictSoft(Xte[17:18,:]))"
   ]
  },
  {
   "cell_type": "code",
   "execution_count": null,
   "metadata": {
    "collapsed": true
   },
   "outputs": [],
   "source": []
  },
  {
   "cell_type": "code",
   "execution_count": 331,
   "metadata": {
    "collapsed": true
   },
   "outputs": [],
   "source": [
    "# Test submission\n",
    "Xte = np.genfromtxt('data/X_test.txt', delimiter=None)\n",
    "Yte = np.vstack((np.arange(Xte.shape[0]), bt.predictSoft(Xte)[:,1])).T\n",
    "np.savetxt('Y_submit.txt', Yte, '%d, %.2f', header='ID,Prob1', comments='', delimiter=',')"
   ]
  },
  {
   "cell_type": "code",
   "execution_count": null,
   "metadata": {},
   "outputs": [],
   "source": []
  },
  {
   "cell_type": "code",
   "execution_count": null,
   "metadata": {
    "collapsed": true
   },
   "outputs": [],
   "source": []
  }
 ],
 "metadata": {
  "kernelspec": {
   "display_name": "Python 3",
   "language": "python",
   "name": "python3"
  },
  "language_info": {
   "codemirror_mode": {
    "name": "ipython",
    "version": 3
   },
   "file_extension": ".py",
   "mimetype": "text/x-python",
   "name": "python",
   "nbconvert_exporter": "python",
   "pygments_lexer": "ipython3",
   "version": "3.6.2"
  }
 },
 "nbformat": 4,
 "nbformat_minor": 2
}
