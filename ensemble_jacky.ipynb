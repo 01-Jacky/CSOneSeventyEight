{
 "cells": [
  {
   "cell_type": "markdown",
   "metadata": {},
   "source": [
    "# Putting Together Ensemble and Submitting Predictions"
   ]
  },
  {
   "cell_type": "code",
   "execution_count": 1,
   "metadata": {
    "collapsed": true
   },
   "outputs": [],
   "source": [
    "import pickle\n",
    "import numpy as np\n",
    "import matplotlib.pyplot as plt\n",
    "import mltools as ml\n",
    "import math\n",
    "\n",
    "%matplotlib inline\n",
    "np.random.seed(0)    # Default seeding for hw\n",
    "\n",
    "# Data Loading\n",
    "X = np.genfromtxt('data/X_train.txt', delimiter=None)\n",
    "Y = np.genfromtxt('data/Y_train.txt', delimiter=None)\n",
    "X,Y = ml.shuffleData(X,Y)\n",
    "\n",
    "# Split the data\n",
    "Xtr, Xva, Ytr, Yva = ml.splitData(X, Y)\n",
    "Xt, Yt = Xtr[:5000], Ytr[:5000] # subsample for efficiency (you can go higher)"
   ]
  },
  {
   "cell_type": "markdown",
   "metadata": {},
   "source": [
    "# Get Each Learners"
   ]
  },
  {
   "cell_type": "code",
   "execution_count": 2,
   "metadata": {},
   "outputs": [
    {
     "name": "stdout",
     "output_type": "stream",
     "text": [
      "[[ 0.66666667  0.33333333]\n",
      " [ 0.66666667  0.33333333]\n",
      " [ 0.66666667  0.33333333]]\n"
     ]
    }
   ],
   "source": [
    "#Learner 1\n",
    "knn1 = ml.knn.knnClassify( Xtr, Ytr, 3)\n",
    "pred = knn1.predictSoft(Xva[1:4])\n",
    "print(pred)"
   ]
  },
  {
   "cell_type": "code",
   "execution_count": 3,
   "metadata": {},
   "outputs": [
    {
     "name": "stdout",
     "output_type": "stream",
     "text": [
      "[[ 0.5  0.5]\n",
      " [ 0.6  0.4]\n",
      " [ 0.8  0.2]]\n"
     ]
    }
   ],
   "source": [
    "#Learner 2\n",
    "knn2 = ml.knn.knnClassify( Xtr, Ytr, 10)\n",
    "pred = knn2.predictSoft(Xva[1:4])\n",
    "print(pred)"
   ]
  },
  {
   "cell_type": "code",
   "execution_count": 26,
   "metadata": {},
   "outputs": [
    {
     "name": "stdout",
     "output_type": "stream",
     "text": [
      "[[ 0.79423729  0.20576271]\n",
      " [ 0.62446477  0.37553523]\n",
      " [ 0.79423729  0.20576271]]\n"
     ]
    }
   ],
   "source": [
    "#Learner 3\n",
    "random_forrest_learner = pickle.load( open('pickle/1_random_forrest.pkl', \"rb\" ) )\n",
    "pred = random_forrest_learner.predictSoft(Xva[1:4])\n",
    "print(pred)"
   ]
  },
  {
   "cell_type": "markdown",
   "metadata": {},
   "source": [
    "# Put together ensemble"
   ]
  },
  {
   "cell_type": "code",
   "execution_count": 8,
   "metadata": {},
   "outputs": [],
   "source": [
    "class Ensemble(ml.base.classifier):\n",
    "    def __init__(self, learners):\n",
    "        \"\"\"Constructs a BaggedTree class with a set of learners. \"\"\"\n",
    "        self.learners = learners\n",
    "    \n",
    "    def predictSoft(self, X):\n",
    "        \"\"\"\n",
    "        Predicts the probabilities with each bagged learner and average over the results. \n",
    "        Each learner has equal weights\n",
    "        \"\"\"\n",
    "        n_bags = len(self.learners)\n",
    "        preds = [self.learners[l].predictSoft(X) for l in range(n_bags)]\n",
    "        return np.mean(preds, axis=0)\n",
    "    \n",
    "classifiers = []\n",
    "classifiers.append(knn1)\n",
    "classifiers.append(knn2)\n",
    "classifiers.append(random_forrest_learner)\n",
    "\n",
    "ensemble = Ensemble(classifiers)\n",
    "ensemble.classes = np.unique(Y)    # Tell it how many classes there are"
   ]
  },
  {
   "cell_type": "code",
   "execution_count": 10,
   "metadata": {},
   "outputs": [
    {
     "name": "stdout",
     "output_type": "stream",
     "text": [
      "[[ 0.66666667  0.33333333]]\n",
      "[[ 0.5  0.5]]\n",
      "[[ 0.79423729  0.20576271]]\n",
      "[[ 0.65363465  0.34636535]]\n"
     ]
    }
   ],
   "source": [
    "# Test driving ensemble\n",
    "print(knn1.predictSoft(Xva[1:2]))\n",
    "print(knn2.predictSoft(Xva[1:2]))\n",
    "print(random_forrest_learner.predictSoft(Xva[1:2]))\n",
    "print(ensemble.predictSoft(Xva[1:2]))"
   ]
  },
  {
   "cell_type": "markdown",
   "metadata": {},
   "source": [
    "# Make Prediction + Kaggle Submission"
   ]
  },
  {
   "cell_type": "code",
   "execution_count": null,
   "metadata": {},
   "outputs": [],
   "source": [
    "# Submission\n",
    "\"\"\"\n",
    "This makes a text file with format like this where second column is probability of rain:\n",
    "ID,Prob1\n",
    "0, 0.34\n",
    "1, 0.37\n",
    "2, 0.23\n",
    "3, 0.24\n",
    "...\n",
    "\"\"\"\n",
    "Xte = np.genfromtxt('data/X_test.txt', delimiter=None)\n",
    "Yte = np.vstack((np.arange(Xte.shape[0]), ensemble.predictSoft(Xte)[:,1])).T\n",
    "np.savetxt('Y_submit.txt', Yte, '%d, %.2f', header='ID,Prob1', comments='', delimiter=',')"
   ]
  },
  {
   "cell_type": "code",
   "execution_count": null,
   "metadata": {},
   "outputs": [],
   "source": []
  },
  {
   "cell_type": "code",
   "execution_count": null,
   "metadata": {},
   "outputs": [],
   "source": []
  },
  {
   "cell_type": "code",
   "execution_count": null,
   "metadata": {},
   "outputs": [],
   "source": []
  },
  {
   "cell_type": "code",
   "execution_count": null,
   "metadata": {
    "collapsed": true
   },
   "outputs": [],
   "source": []
  }
 ],
 "metadata": {
  "kernelspec": {
   "display_name": "Python 3",
   "language": "python",
   "name": "python3"
  },
  "language_info": {
   "codemirror_mode": {
    "name": "ipython",
    "version": 3
   },
   "file_extension": ".py",
   "mimetype": "text/x-python",
   "name": "python",
   "nbconvert_exporter": "python",
   "pygments_lexer": "ipython3",
   "version": "3.6.2"
  }
 },
 "nbformat": 4,
 "nbformat_minor": 2
}
